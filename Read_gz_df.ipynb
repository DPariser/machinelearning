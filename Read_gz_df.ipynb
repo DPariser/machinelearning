{
  "nbformat": 4,
  "nbformat_minor": 0,
  "metadata": {
    "colab": {
      "provenance": [],
      "include_colab_link": true
    },
    "kernelspec": {
      "name": "python3",
      "display_name": "Python 3"
    },
    "language_info": {
      "name": "python"
    }
  },
  "cells": [
    {
      "cell_type": "markdown",
      "metadata": {
        "id": "view-in-github",
        "colab_type": "text"
      },
      "source": [
        "<a href=\"https://colab.research.google.com/github/DPariser/machinelearning/blob/main/Read_gz_df.ipynb\" target=\"_parent\"><img src=\"https://colab.research.google.com/assets/colab-badge.svg\" alt=\"Open In Colab\"/></a>"
      ]
    },
    {
      "cell_type": "markdown",
      "source": [
        "# Environment Setups"
      ],
      "metadata": {
        "id": "skixI1h20SCX"
      }
    },
    {
      "cell_type": "markdown",
      "source": [
        "## System info - use watermark\n",
        "\n",
        "* Show version of the python system"
      ],
      "metadata": {
        "id": "kJrDMLe31M3x"
      }
    },
    {
      "cell_type": "code",
      "source": [
        "!pip install watermark -q\n",
        "\n",
        "%load_ext watermark\n",
        "%watermark -v -p torch"
      ],
      "metadata": {
        "colab": {
          "base_uri": "https://localhost:8080/"
        },
        "id": "UGiU96Zb1fGl",
        "outputId": "49a76d4f-3e86-4bd7-e230-204edb293b88"
      },
      "execution_count": null,
      "outputs": [
        {
          "output_type": "stream",
          "name": "stdout",
          "text": [
            "\u001b[?25l     \u001b[90m━━━━━━━━━━━━━━━━━━━━━━━━━━━━━━━━━━━━━━━━\u001b[0m \u001b[32m0.0/1.6 MB\u001b[0m \u001b[31m?\u001b[0m eta \u001b[36m-:--:--\u001b[0m\r\u001b[2K     \u001b[90m━━━━━━━━━━━━━━━━━━━━━━━━━━━━━━━━━━━━━━━━\u001b[0m \u001b[32m1.6/1.6 MB\u001b[0m \u001b[31m54.3 MB/s\u001b[0m eta \u001b[36m0:00:00\u001b[0m\n",
            "\u001b[?25hPython implementation: CPython\n",
            "Python version       : 3.9.16\n",
            "IPython version      : 7.9.0\n",
            "\n",
            "torch: 1.13.1+cu116\n",
            "\n"
          ]
        }
      ]
    },
    {
      "cell_type": "markdown",
      "source": [
        "## Google drive - Mount"
      ],
      "metadata": {
        "id": "JsddkvmW0uhN"
      }
    },
    {
      "cell_type": "code",
      "source": [
        "from google.colab import drive\n",
        "drive.mount('/content/drive')"
      ],
      "metadata": {
        "colab": {
          "base_uri": "https://localhost:8080/"
        },
        "id": "FkheosV_5Muv",
        "outputId": "02c92eb9-535e-46d5-e79f-0e48619edb72"
      },
      "execution_count": null,
      "outputs": [
        {
          "output_type": "stream",
          "name": "stdout",
          "text": [
            "Mounted at /content/drive\n"
          ]
        }
      ]
    },
    {
      "cell_type": "markdown",
      "source": [
        "# Common functions\n",
        "\n",
        "\n"
      ],
      "metadata": {
        "id": "MvNraNa6wAVv"
      }
    },
    {
      "cell_type": "markdown",
      "source": [
        "## Memory usage - Dataframe"
      ],
      "metadata": {
        "id": "L01S3EKi2s7Z"
      }
    },
    {
      "cell_type": "markdown",
      "source": [],
      "metadata": {
        "id": "xLyBgaHF0MqX"
      }
    },
    {
      "cell_type": "code",
      "source": [
        "import pandas as pd\n",
        "import gzip\n",
        "import io\n",
        "\n",
        "def report_mem(df):\n",
        "  memory_used = df.memory_usage(deep=True).sum() / (1024 * 1024)\n",
        "  print('>>>>>')\n",
        "  print(f\"Memory usage of dataframe: {memory_used:.2f} MB\")\n",
        "  print('>>>>>')"
      ],
      "metadata": {
        "id": "KKpw6vxZGBZd"
      },
      "execution_count": null,
      "outputs": []
    },
    {
      "cell_type": "markdown",
      "source": [
        "# Reading csv - in gz\n",
        "\n",
        "* We want to read the gz file without extracting it. It makes sense to do so for large files"
      ],
      "metadata": {
        "id": "fcOl9SwTGETR"
      }
    },
    {
      "cell_type": "markdown",
      "source": [
        "## Small file - read into Dataframe"
      ],
      "metadata": {
        "id": "vUl5yYAbFvNg"
      }
    },
    {
      "cell_type": "code",
      "source": [
        "# Read GSE158055 cell annotation csv\n",
        "path = \"/content/drive/My Drive/LungMk/Data files/GSE158055_cell_annotation.csv.gz\"\n",
        "\n",
        "df = pd.read_csv(path, compression = 'gzip')\n",
        "report_mem(df)"
      ],
      "metadata": {
        "colab": {
          "base_uri": "https://localhost:8080/"
        },
        "id": "mDpZvxbFwRz4",
        "outputId": "903f5348-d038-4142-dadf-ddfcf8da0386"
      },
      "execution_count": null,
      "outputs": [
        {
          "output_type": "stream",
          "name": "stdout",
          "text": [
            ">>>>>\n",
            "Memory usage of dataframe: 379.56 MB\n",
            ">>>>>\n"
          ]
        }
      ]
    },
    {
      "cell_type": "code",
      "source": [
        "df.head()"
      ],
      "metadata": {
        "colab": {
          "base_uri": "https://localhost:8080/",
          "height": 206
        },
        "id": "wfag5Swu_4cB",
        "outputId": "47c9005c-74b7-4247-d22b-97ca3b11d723"
      },
      "execution_count": null,
      "outputs": [
        {
          "output_type": "execute_result",
          "data": {
            "text/plain": [
              "             cellName  sampleID               celltype majorType\n",
              "0  AACAGGGGTCGGATTT-0  S-S070-1      Mono_c1-CD14-CCL3      Mono\n",
              "1  AACCAACGTCCGAAAG-0  S-S070-1       B_c02-MS4A1-CD27         B\n",
              "2  AACCTTTGTAGCACGA-0  S-S070-1            B_c01-TCL1A         B\n",
              "3  AAGCATCTCTATCGCC-0  S-S070-1  Mono_c2-CD14-HLA-DPB1      Mono\n",
              "4  AATCACGGTCATAAAG-0  S-S070-1            B_c01-TCL1A         B"
            ],
            "text/html": [
              "\n",
              "  <div id=\"df-d6d6683b-3a1e-4f13-91e0-0d9a0fbc8006\">\n",
              "    <div class=\"colab-df-container\">\n",
              "      <div>\n",
              "<style scoped>\n",
              "    .dataframe tbody tr th:only-of-type {\n",
              "        vertical-align: middle;\n",
              "    }\n",
              "\n",
              "    .dataframe tbody tr th {\n",
              "        vertical-align: top;\n",
              "    }\n",
              "\n",
              "    .dataframe thead th {\n",
              "        text-align: right;\n",
              "    }\n",
              "</style>\n",
              "<table border=\"1\" class=\"dataframe\">\n",
              "  <thead>\n",
              "    <tr style=\"text-align: right;\">\n",
              "      <th></th>\n",
              "      <th>cellName</th>\n",
              "      <th>sampleID</th>\n",
              "      <th>celltype</th>\n",
              "      <th>majorType</th>\n",
              "    </tr>\n",
              "  </thead>\n",
              "  <tbody>\n",
              "    <tr>\n",
              "      <th>0</th>\n",
              "      <td>AACAGGGGTCGGATTT-0</td>\n",
              "      <td>S-S070-1</td>\n",
              "      <td>Mono_c1-CD14-CCL3</td>\n",
              "      <td>Mono</td>\n",
              "    </tr>\n",
              "    <tr>\n",
              "      <th>1</th>\n",
              "      <td>AACCAACGTCCGAAAG-0</td>\n",
              "      <td>S-S070-1</td>\n",
              "      <td>B_c02-MS4A1-CD27</td>\n",
              "      <td>B</td>\n",
              "    </tr>\n",
              "    <tr>\n",
              "      <th>2</th>\n",
              "      <td>AACCTTTGTAGCACGA-0</td>\n",
              "      <td>S-S070-1</td>\n",
              "      <td>B_c01-TCL1A</td>\n",
              "      <td>B</td>\n",
              "    </tr>\n",
              "    <tr>\n",
              "      <th>3</th>\n",
              "      <td>AAGCATCTCTATCGCC-0</td>\n",
              "      <td>S-S070-1</td>\n",
              "      <td>Mono_c2-CD14-HLA-DPB1</td>\n",
              "      <td>Mono</td>\n",
              "    </tr>\n",
              "    <tr>\n",
              "      <th>4</th>\n",
              "      <td>AATCACGGTCATAAAG-0</td>\n",
              "      <td>S-S070-1</td>\n",
              "      <td>B_c01-TCL1A</td>\n",
              "      <td>B</td>\n",
              "    </tr>\n",
              "  </tbody>\n",
              "</table>\n",
              "</div>\n",
              "      <button class=\"colab-df-convert\" onclick=\"convertToInteractive('df-d6d6683b-3a1e-4f13-91e0-0d9a0fbc8006')\"\n",
              "              title=\"Convert this dataframe to an interactive table.\"\n",
              "              style=\"display:none;\">\n",
              "        \n",
              "  <svg xmlns=\"http://www.w3.org/2000/svg\" height=\"24px\"viewBox=\"0 0 24 24\"\n",
              "       width=\"24px\">\n",
              "    <path d=\"M0 0h24v24H0V0z\" fill=\"none\"/>\n",
              "    <path d=\"M18.56 5.44l.94 2.06.94-2.06 2.06-.94-2.06-.94-.94-2.06-.94 2.06-2.06.94zm-11 1L8.5 8.5l.94-2.06 2.06-.94-2.06-.94L8.5 2.5l-.94 2.06-2.06.94zm10 10l.94 2.06.94-2.06 2.06-.94-2.06-.94-.94-2.06-.94 2.06-2.06.94z\"/><path d=\"M17.41 7.96l-1.37-1.37c-.4-.4-.92-.59-1.43-.59-.52 0-1.04.2-1.43.59L10.3 9.45l-7.72 7.72c-.78.78-.78 2.05 0 2.83L4 21.41c.39.39.9.59 1.41.59.51 0 1.02-.2 1.41-.59l7.78-7.78 2.81-2.81c.8-.78.8-2.07 0-2.86zM5.41 20L4 18.59l7.72-7.72 1.47 1.35L5.41 20z\"/>\n",
              "  </svg>\n",
              "      </button>\n",
              "      \n",
              "  <style>\n",
              "    .colab-df-container {\n",
              "      display:flex;\n",
              "      flex-wrap:wrap;\n",
              "      gap: 12px;\n",
              "    }\n",
              "\n",
              "    .colab-df-convert {\n",
              "      background-color: #E8F0FE;\n",
              "      border: none;\n",
              "      border-radius: 50%;\n",
              "      cursor: pointer;\n",
              "      display: none;\n",
              "      fill: #1967D2;\n",
              "      height: 32px;\n",
              "      padding: 0 0 0 0;\n",
              "      width: 32px;\n",
              "    }\n",
              "\n",
              "    .colab-df-convert:hover {\n",
              "      background-color: #E2EBFA;\n",
              "      box-shadow: 0px 1px 2px rgba(60, 64, 67, 0.3), 0px 1px 3px 1px rgba(60, 64, 67, 0.15);\n",
              "      fill: #174EA6;\n",
              "    }\n",
              "\n",
              "    [theme=dark] .colab-df-convert {\n",
              "      background-color: #3B4455;\n",
              "      fill: #D2E3FC;\n",
              "    }\n",
              "\n",
              "    [theme=dark] .colab-df-convert:hover {\n",
              "      background-color: #434B5C;\n",
              "      box-shadow: 0px 1px 3px 1px rgba(0, 0, 0, 0.15);\n",
              "      filter: drop-shadow(0px 1px 2px rgba(0, 0, 0, 0.3));\n",
              "      fill: #FFFFFF;\n",
              "    }\n",
              "  </style>\n",
              "\n",
              "      <script>\n",
              "        const buttonEl =\n",
              "          document.querySelector('#df-d6d6683b-3a1e-4f13-91e0-0d9a0fbc8006 button.colab-df-convert');\n",
              "        buttonEl.style.display =\n",
              "          google.colab.kernel.accessAllowed ? 'block' : 'none';\n",
              "\n",
              "        async function convertToInteractive(key) {\n",
              "          const element = document.querySelector('#df-d6d6683b-3a1e-4f13-91e0-0d9a0fbc8006');\n",
              "          const dataTable =\n",
              "            await google.colab.kernel.invokeFunction('convertToInteractive',\n",
              "                                                     [key], {});\n",
              "          if (!dataTable) return;\n",
              "\n",
              "          const docLinkHtml = 'Like what you see? Visit the ' +\n",
              "            '<a target=\"_blank\" href=https://colab.research.google.com/notebooks/data_table.ipynb>data table notebook</a>'\n",
              "            + ' to learn more about interactive tables.';\n",
              "          element.innerHTML = '';\n",
              "          dataTable['output_type'] = 'display_data';\n",
              "          await google.colab.output.renderOutput(dataTable, element);\n",
              "          const docLink = document.createElement('div');\n",
              "          docLink.innerHTML = docLinkHtml;\n",
              "          element.appendChild(docLink);\n",
              "        }\n",
              "      </script>\n",
              "    </div>\n",
              "  </div>\n",
              "  "
            ]
          },
          "metadata": {},
          "execution_count": 5
        }
      ]
    },
    {
      "cell_type": "markdown",
      "source": [
        "## Large file - check line count"
      ],
      "metadata": {
        "id": "nrYwzqMcDZ1X"
      }
    },
    {
      "cell_type": "code",
      "source": [
        "def count_lines(fp):\n",
        "  with gzip.open(fp, 'rb') as f:\n",
        "      num_total_rows = sum(1 for line in f)\n",
        "      return num_total_rows\n",
        "\n",
        "import time\n",
        "start_time = time.time()\n",
        "\n",
        "# Print the total number of rows in the file\n",
        "print(f\"Total number of rows: {count_lines(path)}\")\n",
        "print(\"Time taken %s seconds\" % (time.time() - start_time))"
      ],
      "metadata": {
        "colab": {
          "base_uri": "https://localhost:8080/"
        },
        "id": "dLbaJAxWAvpR",
        "outputId": "8e160794-1933-4d6a-e8b5-3c7bf66f877f"
      },
      "execution_count": null,
      "outputs": [
        {
          "output_type": "stream",
          "name": "stdout",
          "text": [
            "Total number of rows: 1462703\n",
            "Time taken 1.1179499626159668 seconds\n"
          ]
        }
      ]
    },
    {
      "cell_type": "markdown",
      "source": [
        "## Large file - read part into DF"
      ],
      "metadata": {
        "id": "tFEujFppDvoI"
      }
    },
    {
      "cell_type": "code",
      "source": [
        "df = pd.read_csv(path, compression = 'gzip', nrows=1000, skiprows=range(1, 3))\n",
        "report_mem(df)\n",
        "df.head()"
      ],
      "metadata": {
        "colab": {
          "base_uri": "https://localhost:8080/",
          "height": 258
        },
        "id": "Uf9_XtO7D88Z",
        "outputId": "918d810d-7f00-4690-e9b1-7092cc323abd"
      },
      "execution_count": null,
      "outputs": [
        {
          "output_type": "stream",
          "name": "stdout",
          "text": [
            ">>>>>\n",
            "Memory usage of dataframe: 0.26 MB\n",
            ">>>>>\n"
          ]
        },
        {
          "output_type": "execute_result",
          "data": {
            "text/plain": [
              "             cellName  sampleID               celltype majorType\n",
              "0  AACCTTTGTAGCACGA-0  S-S070-1            B_c01-TCL1A         B\n",
              "1  AAGCATCTCTATCGCC-0  S-S070-1  Mono_c2-CD14-HLA-DPB1      Mono\n",
              "2  AATCACGGTCATAAAG-0  S-S070-1            B_c01-TCL1A         B\n",
              "3  AATCACGGTGGTTCTA-0  S-S070-1       B_c02-MS4A1-CD27         B\n",
              "4  AATGAAGCAACTGGTT-0  S-S070-1        Macro_c2-CCL3L1     Macro"
            ],
            "text/html": [
              "\n",
              "  <div id=\"df-401c8990-aca6-46f2-9158-18c720c12f71\">\n",
              "    <div class=\"colab-df-container\">\n",
              "      <div>\n",
              "<style scoped>\n",
              "    .dataframe tbody tr th:only-of-type {\n",
              "        vertical-align: middle;\n",
              "    }\n",
              "\n",
              "    .dataframe tbody tr th {\n",
              "        vertical-align: top;\n",
              "    }\n",
              "\n",
              "    .dataframe thead th {\n",
              "        text-align: right;\n",
              "    }\n",
              "</style>\n",
              "<table border=\"1\" class=\"dataframe\">\n",
              "  <thead>\n",
              "    <tr style=\"text-align: right;\">\n",
              "      <th></th>\n",
              "      <th>cellName</th>\n",
              "      <th>sampleID</th>\n",
              "      <th>celltype</th>\n",
              "      <th>majorType</th>\n",
              "    </tr>\n",
              "  </thead>\n",
              "  <tbody>\n",
              "    <tr>\n",
              "      <th>0</th>\n",
              "      <td>AACCTTTGTAGCACGA-0</td>\n",
              "      <td>S-S070-1</td>\n",
              "      <td>B_c01-TCL1A</td>\n",
              "      <td>B</td>\n",
              "    </tr>\n",
              "    <tr>\n",
              "      <th>1</th>\n",
              "      <td>AAGCATCTCTATCGCC-0</td>\n",
              "      <td>S-S070-1</td>\n",
              "      <td>Mono_c2-CD14-HLA-DPB1</td>\n",
              "      <td>Mono</td>\n",
              "    </tr>\n",
              "    <tr>\n",
              "      <th>2</th>\n",
              "      <td>AATCACGGTCATAAAG-0</td>\n",
              "      <td>S-S070-1</td>\n",
              "      <td>B_c01-TCL1A</td>\n",
              "      <td>B</td>\n",
              "    </tr>\n",
              "    <tr>\n",
              "      <th>3</th>\n",
              "      <td>AATCACGGTGGTTCTA-0</td>\n",
              "      <td>S-S070-1</td>\n",
              "      <td>B_c02-MS4A1-CD27</td>\n",
              "      <td>B</td>\n",
              "    </tr>\n",
              "    <tr>\n",
              "      <th>4</th>\n",
              "      <td>AATGAAGCAACTGGTT-0</td>\n",
              "      <td>S-S070-1</td>\n",
              "      <td>Macro_c2-CCL3L1</td>\n",
              "      <td>Macro</td>\n",
              "    </tr>\n",
              "  </tbody>\n",
              "</table>\n",
              "</div>\n",
              "      <button class=\"colab-df-convert\" onclick=\"convertToInteractive('df-401c8990-aca6-46f2-9158-18c720c12f71')\"\n",
              "              title=\"Convert this dataframe to an interactive table.\"\n",
              "              style=\"display:none;\">\n",
              "        \n",
              "  <svg xmlns=\"http://www.w3.org/2000/svg\" height=\"24px\"viewBox=\"0 0 24 24\"\n",
              "       width=\"24px\">\n",
              "    <path d=\"M0 0h24v24H0V0z\" fill=\"none\"/>\n",
              "    <path d=\"M18.56 5.44l.94 2.06.94-2.06 2.06-.94-2.06-.94-.94-2.06-.94 2.06-2.06.94zm-11 1L8.5 8.5l.94-2.06 2.06-.94-2.06-.94L8.5 2.5l-.94 2.06-2.06.94zm10 10l.94 2.06.94-2.06 2.06-.94-2.06-.94-.94-2.06-.94 2.06-2.06.94z\"/><path d=\"M17.41 7.96l-1.37-1.37c-.4-.4-.92-.59-1.43-.59-.52 0-1.04.2-1.43.59L10.3 9.45l-7.72 7.72c-.78.78-.78 2.05 0 2.83L4 21.41c.39.39.9.59 1.41.59.51 0 1.02-.2 1.41-.59l7.78-7.78 2.81-2.81c.8-.78.8-2.07 0-2.86zM5.41 20L4 18.59l7.72-7.72 1.47 1.35L5.41 20z\"/>\n",
              "  </svg>\n",
              "      </button>\n",
              "      \n",
              "  <style>\n",
              "    .colab-df-container {\n",
              "      display:flex;\n",
              "      flex-wrap:wrap;\n",
              "      gap: 12px;\n",
              "    }\n",
              "\n",
              "    .colab-df-convert {\n",
              "      background-color: #E8F0FE;\n",
              "      border: none;\n",
              "      border-radius: 50%;\n",
              "      cursor: pointer;\n",
              "      display: none;\n",
              "      fill: #1967D2;\n",
              "      height: 32px;\n",
              "      padding: 0 0 0 0;\n",
              "      width: 32px;\n",
              "    }\n",
              "\n",
              "    .colab-df-convert:hover {\n",
              "      background-color: #E2EBFA;\n",
              "      box-shadow: 0px 1px 2px rgba(60, 64, 67, 0.3), 0px 1px 3px 1px rgba(60, 64, 67, 0.15);\n",
              "      fill: #174EA6;\n",
              "    }\n",
              "\n",
              "    [theme=dark] .colab-df-convert {\n",
              "      background-color: #3B4455;\n",
              "      fill: #D2E3FC;\n",
              "    }\n",
              "\n",
              "    [theme=dark] .colab-df-convert:hover {\n",
              "      background-color: #434B5C;\n",
              "      box-shadow: 0px 1px 3px 1px rgba(0, 0, 0, 0.15);\n",
              "      filter: drop-shadow(0px 1px 2px rgba(0, 0, 0, 0.3));\n",
              "      fill: #FFFFFF;\n",
              "    }\n",
              "  </style>\n",
              "\n",
              "      <script>\n",
              "        const buttonEl =\n",
              "          document.querySelector('#df-401c8990-aca6-46f2-9158-18c720c12f71 button.colab-df-convert');\n",
              "        buttonEl.style.display =\n",
              "          google.colab.kernel.accessAllowed ? 'block' : 'none';\n",
              "\n",
              "        async function convertToInteractive(key) {\n",
              "          const element = document.querySelector('#df-401c8990-aca6-46f2-9158-18c720c12f71');\n",
              "          const dataTable =\n",
              "            await google.colab.kernel.invokeFunction('convertToInteractive',\n",
              "                                                     [key], {});\n",
              "          if (!dataTable) return;\n",
              "\n",
              "          const docLinkHtml = 'Like what you see? Visit the ' +\n",
              "            '<a target=\"_blank\" href=https://colab.research.google.com/notebooks/data_table.ipynb>data table notebook</a>'\n",
              "            + ' to learn more about interactive tables.';\n",
              "          element.innerHTML = '';\n",
              "          dataTable['output_type'] = 'display_data';\n",
              "          await google.colab.output.renderOutput(dataTable, element);\n",
              "          const docLink = document.createElement('div');\n",
              "          docLink.innerHTML = docLinkHtml;\n",
              "          element.appendChild(docLink);\n",
              "        }\n",
              "      </script>\n",
              "    </div>\n",
              "  </div>\n",
              "  "
            ]
          },
          "metadata": {},
          "execution_count": 7
        }
      ]
    },
    {
      "cell_type": "markdown",
      "source": [
        "# Read mtx - in gz"
      ],
      "metadata": {
        "id": "0U5ldSL2ES2m"
      }
    },
    {
      "cell_type": "markdown",
      "source": [
        "## Process line ranges\n",
        "\n",
        "* For very large files, we can pick the lines we are interested to work on.\n",
        "* Here we are not loading the file into any objects, just process selected lines as we read them into memory."
      ],
      "metadata": {
        "id": "ZP4d6tGMJ8yg"
      }
    },
    {
      "cell_type": "code",
      "source": [
        "mtx_fp = '/content/drive/My Drive/Data files/GSE158055_covid19_counts.mtx.gz'\n",
        "\n",
        "def read_mtx(fp, callback, start=0, end=-1):\n",
        "  with gzip.open(fp, 'rt') as f:\n",
        "    bound = f\n",
        "    if end > 0:\n",
        "      bound = range(end)\n",
        "    for i in bound:\n",
        "          line = next(f)\n",
        "          if i >= start:\n",
        "            callback(line.strip())\n",
        "\n",
        "read_mtx(mtx_fp, lambda l: print(l), 3, 8)"
      ],
      "metadata": {
        "colab": {
          "base_uri": "https://localhost:8080/"
        },
        "id": "pWv_cM_iKDGX",
        "outputId": "ddf95c60-1b0b-4108-ce02-7cc33b8b801c"
      },
      "execution_count": null,
      "outputs": [
        {
          "output_type": "stream",
          "name": "stdout",
          "text": [
            "18558 1 62\n",
            "18565 1 8\n",
            "18564 1 29\n",
            "18562 1 96\n",
            "18563 1 8\n"
          ]
        }
      ]
    },
    {
      "cell_type": "markdown",
      "source": [
        "### Split into chunks\n",
        "\n",
        "* The below split function can split the file into chunks.\n",
        "* The different bound identifying function and chunk processor can be plugged in to achieve the need to break the file into chunks or process the chunks in memory.\n",
        "* The end of the cell show 3 different use-cases.\n",
        "* Use-case 1 split the file into column-based chunks and saves the chunks in separate files. The assumption is that the mtx file is sorted by column.\n",
        "* Use-case 2 split the file into size-based chunks and save the chunks in separate files.\n",
        "* Use-case 3 split the file into colmn-based chunks and make a generator out of it so that it can be process in parallel efficiently later."
      ],
      "metadata": {
        "id": "gtXOXfCuXBil"
      }
    },
    {
      "cell_type": "code",
      "source": [
        "import gzip\n",
        "\n",
        "\n",
        "def split(fname, search_bound, max_chunk, chunk_processor, skip=3, encoder='utf-8'):\n",
        "    comp = fname.split('.')\n",
        "    suffix = '.'.join(comp[1:])\n",
        "    prefix = comp[0]\n",
        "    global col_val\n",
        "    col_val = None\n",
        "\n",
        "\n",
        "    with gzip.open(fname, 'rt') as f:\n",
        "        chunk = 1\n",
        "        buffer = []\n",
        "        chunk_size = 0\n",
        "        header_size = 0\n",
        "        for line_number, line in enumerate(f):\n",
        "            if line_number < skip:\n",
        "                chunk_size += len(line.encode(encoder))\n",
        "                header_size = chunk_size\n",
        "                buffer.append(line)\n",
        "                continue\n",
        "\n",
        "            # print(f\"Chunk {chunk}, Line: {line_number}\", end='\\r')\n",
        "\n",
        "            result = None\n",
        "            if search_bound(line) is False:\n",
        "                buffer.append(line)\n",
        "                chunk_size += len(line.encode(encoder))\n",
        "            else:\n",
        "                # Create new chunk\n",
        "                result = chunk_processor(prefix, suffix, chunk, buffer)\n",
        "                chunk += 1\n",
        "                buffer = buffer[0:skip]\n",
        "                buffer.append(line)\n",
        "                chunk_size = header_size + len(line.encode(encoder))\n",
        "\n",
        "            if chunk_size >= max_chunk:\n",
        "                result = chunk_processor(prefix, suffix, chunk, buffer)\n",
        "                chunk += 1\n",
        "                buffer = buffer[0:skip]\n",
        "                chunk_size = header_size\n",
        "\n",
        "            if result is not None:\n",
        "                yield result\n",
        "\n",
        "        # Write the remainder of the file\n",
        "        if buffer:\n",
        "            chunk_processor(prefix, suffix, chunk, buffer)\n",
        "\n",
        "\n",
        "class UnsupportedFileFormatError(Exception):\n",
        "    pass\n",
        "\n",
        "\n",
        "# Chunk by column\n",
        "def column_based(line):\n",
        "    global col_val\n",
        "    if line[0:1] == '%':\n",
        "        # These are header rows\n",
        "        return False\n",
        "    else:\n",
        "        vals = line.split()\n",
        "        new_val = vals[1]\n",
        "        if col_val is None:\n",
        "            col_val = new_val\n",
        "        if int(col_val) > int(new_val):\n",
        "            print(f\"col_val={col_val} and new_val={new_val}\")\n",
        "            raise UnsupportedFileFormatError(\"Columns are not sorted in ascending order\")\n",
        "        if col_val == new_val:\n",
        "            return False\n",
        "        else:\n",
        "            # We found the boundary, start the next chunk\n",
        "            col_val = new_val\n",
        "            return True\n",
        "\n",
        "\n",
        "# Chunk purely by chunk size given\n",
        "def chunk_based(line):\n",
        "    return False\n",
        "\n",
        "\n",
        "# Save chunk - this is the default chunk processor\n",
        "def save_chunk_gz(prefix, suffix, chunk, buffer):\n",
        "    filename = f\"{prefix}.chunk{chunk}.{suffix}\"\n",
        "    with gzip.open(filename, 'wt') as file:\n",
        "        file.writelines(buffer)\n",
        "    return None\n",
        "\n",
        "\n",
        "# Save chunk - this is the default chunk processor\n",
        "def save_chunk(prefix, suffix, chunk, buffer):\n",
        "    ss = suffix\n",
        "    if ss[-3] == '.gz':\n",
        "        ss = suffix[0:-3]\n",
        "    filename = f\"{prefix}.chunk{chunk}.{ss}\"\n",
        "    with open(filename, 'wt') as file:\n",
        "        file.writelines(buffer)\n",
        "    return None\n",
        "\n",
        "\n",
        "def dispense(prefix, suffix, chunk, buffer):\n",
        "    return buffer\n",
        "\n",
        "\n",
        "infile = '/content/drive/My Drive/Data files/GSE158055_covid19_counts.mtx.gz'\n",
        "max_chunk_size = 1024 * 1024 * 100  # 100 MB\n",
        "\n",
        "use_example = 3\n",
        "# Example 1: split file as column-based chunks.\n",
        "if use_example == 1:\n",
        "    split(infile, column_based, max_chunk_size, chunk_processor=save_chunk)\n",
        "\n",
        "# Example 2: split file as chunks, the size of each chunk does not exceed the max chunk size\n",
        "if use_example == 2:\n",
        "    split(infile, chunk_based, max_chunk_size, chunk_processor=save_chunk_gz)\n",
        "\n",
        "# Example 3: split file into column-based chunks and yield one chunk at a time\n",
        "if use_example == 3:\n",
        "  count = 0\n",
        "  for lines in split(infile, column_based, max_chunk_size, chunk_processor=dispense):\n",
        "    count += 1\n",
        "    print(f\"Processed another chunk of {len(lines)} lines.\")\n",
        "    if count > 3:\n",
        "      break\n"
      ],
      "metadata": {
        "colab": {
          "base_uri": "https://localhost:8080/"
        },
        "id": "-CgfzmtcXAG7",
        "outputId": "45eaf25a-68b5-4988-b64e-74f497e00d3f"
      },
      "execution_count": null,
      "outputs": [
        {
          "output_type": "stream",
          "name": "stdout",
          "text": [
            "Processed another chunk of 4207 lines.\n",
            "Processed another chunk of 1318 lines.\n",
            "Processed another chunk of 3559 lines.\n",
            "Processed another chunk of 4283 lines.\n"
          ]
        }
      ]
    },
    {
      "cell_type": "markdown",
      "source": [
        "### Parse mtx chunk\n",
        "\n",
        "* This function extends on use-case 3 to process the chunks by parse it into column, rows and values to prepare it for sparse matrix construction."
      ],
      "metadata": {
        "id": "LVaPIXT4IN1c"
      }
    },
    {
      "cell_type": "code",
      "source": [
        "import numpy as np\n",
        "\n",
        "def parse_mtx_chunk(lines, skip=3):\n",
        "  if len(lines) < 3:\n",
        "    return (-1, [], [])\n",
        "\n",
        "  row_indices = []\n",
        "  col_index = int(lines[-1].split()[1])\n",
        "  values = []\n",
        "  for line in lines[skip:]:\n",
        "    cells = line.split()\n",
        "    row_indices.append(int(cells[0]))\n",
        "    values.append(int(cells[2]))\n",
        "  return (col_index, row_indices, values)\n",
        "\n",
        "for lines in split(infile, column_based, max_chunk_size, chunk_processor=dispense):\n",
        "  # We just process one chunk for demo purpose\n",
        "  col_index, row_indices, values = parse_mtx_chunk(lines)\n",
        "  if col_index==-1:\n",
        "    print('No records found!')\n",
        "  else:\n",
        "    print(f\"col_index={col_index}, rows={len(row_indices)}, max_value={np.amax(values)}\")\n",
        "  break\n"
      ],
      "metadata": {
        "colab": {
          "base_uri": "https://localhost:8080/"
        },
        "id": "2fZ2lLanIUq5",
        "outputId": "7643af9d-a111-4f01-abd6-074784a714f4"
      },
      "execution_count": null,
      "outputs": [
        {
          "output_type": "stream",
          "name": "stdout",
          "text": [
            "col_index=1, rows=4204, max_value=1995\n"
          ]
        }
      ]
    },
    {
      "cell_type": "markdown",
      "source": [
        "### Build COO Matrix\n",
        "\n",
        "* Use this to construct sparse matrix to process the rows and columns interested. "
      ],
      "metadata": {
        "id": "3uXUwLMCWGq0"
      }
    },
    {
      "cell_type": "code",
      "source": [
        "from typing_extensions import Self\n",
        "import numpy as np\n",
        "from scipy.sparse import coo_matrix\n",
        "\n",
        "def dim_floor(array):\n",
        "  mina = min(array)\n",
        "  array = list(map(lambda x: x - mina, array))\n",
        "  return array\n",
        "\n",
        "class CooMatrixBuilder:\n",
        "  def __init__(self):\n",
        "    self.chunks = []\n",
        "\n",
        "  def append(self, chunk):\n",
        "    self.chunks.append(chunk)\n",
        "    return Self\n",
        "\n",
        "  def build(self, shape=None):\n",
        "    cols = []\n",
        "    rows = []\n",
        "    vals = []\n",
        "    for chunk in self.chunks:\n",
        "      col_index, row_indices, values = parse_mtx_chunk(chunk)\n",
        "      rows.extend(row_indices)\n",
        "      cols.extend(np.full(len(row_indices), col_index))\n",
        "      vals.extend(values)\n",
        "\n",
        "    if shape is None:\n",
        "      # Only focus on what we have\n",
        "      rows = dim_floor(rows)\n",
        "      cols = dim_floor(cols)\n",
        "      shape = (max(rows)+1, max(cols)+1)\n",
        "\n",
        "    return coo_matrix((vals, (rows, cols)), shape=shape)\n",
        "\n",
        "\n",
        "# We will build a coo matrix for 3 chunks. In reality, we can combine any \n",
        "# random chunks into a COO Matrix and then subsequently do matrix calculation.\n",
        "count = 0\n",
        "builder = CooMatrixBuilder()\n",
        "for lines in split(infile, column_based, max_chunk_size, chunk_processor=dispense):\n",
        "  # We just process one chunk for demo purpose\n",
        "  builder.append(lines)\n",
        "  count += 1\n",
        "  if(count > 2):\n",
        "    # For demo purpose only. In reality, adjust the exit condition \n",
        "    break\n",
        "\n",
        "matrix = builder.build()\n",
        "print(matrix.data.max())\n",
        "print(matrix.shape)"
      ],
      "metadata": {
        "colab": {
          "base_uri": "https://localhost:8080/"
        },
        "id": "NFod3fw-WPNN",
        "outputId": "b52e8b56-48d4-4d87-e33c-36f6a8b9a59d"
      },
      "execution_count": null,
      "outputs": [
        {
          "output_type": "stream",
          "name": "stdout",
          "text": [
            "1995\n",
            "(27929, 3)\n"
          ]
        }
      ]
    },
    {
      "cell_type": "markdown",
      "source": [
        "# Use Dask\n",
        "\n",
        "* Dask API is a subset of pandas and it is intended for handling very large dataset\n",
        "* To use Dask, simple drop-in-replace pandas with dask."
      ],
      "metadata": {
        "id": "QnByGPymUKh_"
      }
    },
    {
      "cell_type": "markdown",
      "source": [
        "## Large csv file in gz\n",
        "\n",
        "* WIP: It seems that we need to unzip the file first in order to be able to use the blocksize."
      ],
      "metadata": {
        "id": "24RjL4TPWukr"
      }
    },
    {
      "cell_type": "code",
      "source": [
        "import dask.dataframe as dd\n",
        "\n",
        "path = \"/content/drive/My Drive/LungMk/Data files/GSE158055_cell_annotation.csv.gz\"\n",
        "blocksize=50e6\n",
        "x = dd.read_csv(path, blocksize=blocksize, compression = 'gzip')  \n",
        "x.head()"
      ],
      "metadata": {
        "colab": {
          "base_uri": "https://localhost:8080/",
          "height": 293
        },
        "id": "nqCdXPCWUg1T",
        "outputId": "25ecff2c-2662-4d6e-ce49-97d8a0588bb5"
      },
      "execution_count": null,
      "outputs": [
        {
          "output_type": "stream",
          "name": "stderr",
          "text": [
            "/usr/local/lib/python3.9/dist-packages/dask/dataframe/io/csv.py:529: UserWarning: Warning gzip compression does not support breaking apart files\n",
            "Please ensure that each individual file can fit in memory and\n",
            "use the keyword ``blocksize=None to remove this message``\n",
            "Setting ``blocksize=None``\n",
            "  warn(\n"
          ]
        },
        {
          "output_type": "execute_result",
          "data": {
            "text/plain": [
              "             cellName  sampleID               celltype majorType\n",
              "0  AACAGGGGTCGGATTT-0  S-S070-1      Mono_c1-CD14-CCL3      Mono\n",
              "1  AACCAACGTCCGAAAG-0  S-S070-1       B_c02-MS4A1-CD27         B\n",
              "2  AACCTTTGTAGCACGA-0  S-S070-1            B_c01-TCL1A         B\n",
              "3  AAGCATCTCTATCGCC-0  S-S070-1  Mono_c2-CD14-HLA-DPB1      Mono\n",
              "4  AATCACGGTCATAAAG-0  S-S070-1            B_c01-TCL1A         B"
            ],
            "text/html": [
              "\n",
              "  <div id=\"df-e0103bb1-6f23-4de8-a82d-79832001728e\">\n",
              "    <div class=\"colab-df-container\">\n",
              "      <div>\n",
              "<style scoped>\n",
              "    .dataframe tbody tr th:only-of-type {\n",
              "        vertical-align: middle;\n",
              "    }\n",
              "\n",
              "    .dataframe tbody tr th {\n",
              "        vertical-align: top;\n",
              "    }\n",
              "\n",
              "    .dataframe thead th {\n",
              "        text-align: right;\n",
              "    }\n",
              "</style>\n",
              "<table border=\"1\" class=\"dataframe\">\n",
              "  <thead>\n",
              "    <tr style=\"text-align: right;\">\n",
              "      <th></th>\n",
              "      <th>cellName</th>\n",
              "      <th>sampleID</th>\n",
              "      <th>celltype</th>\n",
              "      <th>majorType</th>\n",
              "    </tr>\n",
              "  </thead>\n",
              "  <tbody>\n",
              "    <tr>\n",
              "      <th>0</th>\n",
              "      <td>AACAGGGGTCGGATTT-0</td>\n",
              "      <td>S-S070-1</td>\n",
              "      <td>Mono_c1-CD14-CCL3</td>\n",
              "      <td>Mono</td>\n",
              "    </tr>\n",
              "    <tr>\n",
              "      <th>1</th>\n",
              "      <td>AACCAACGTCCGAAAG-0</td>\n",
              "      <td>S-S070-1</td>\n",
              "      <td>B_c02-MS4A1-CD27</td>\n",
              "      <td>B</td>\n",
              "    </tr>\n",
              "    <tr>\n",
              "      <th>2</th>\n",
              "      <td>AACCTTTGTAGCACGA-0</td>\n",
              "      <td>S-S070-1</td>\n",
              "      <td>B_c01-TCL1A</td>\n",
              "      <td>B</td>\n",
              "    </tr>\n",
              "    <tr>\n",
              "      <th>3</th>\n",
              "      <td>AAGCATCTCTATCGCC-0</td>\n",
              "      <td>S-S070-1</td>\n",
              "      <td>Mono_c2-CD14-HLA-DPB1</td>\n",
              "      <td>Mono</td>\n",
              "    </tr>\n",
              "    <tr>\n",
              "      <th>4</th>\n",
              "      <td>AATCACGGTCATAAAG-0</td>\n",
              "      <td>S-S070-1</td>\n",
              "      <td>B_c01-TCL1A</td>\n",
              "      <td>B</td>\n",
              "    </tr>\n",
              "  </tbody>\n",
              "</table>\n",
              "</div>\n",
              "      <button class=\"colab-df-convert\" onclick=\"convertToInteractive('df-e0103bb1-6f23-4de8-a82d-79832001728e')\"\n",
              "              title=\"Convert this dataframe to an interactive table.\"\n",
              "              style=\"display:none;\">\n",
              "        \n",
              "  <svg xmlns=\"http://www.w3.org/2000/svg\" height=\"24px\"viewBox=\"0 0 24 24\"\n",
              "       width=\"24px\">\n",
              "    <path d=\"M0 0h24v24H0V0z\" fill=\"none\"/>\n",
              "    <path d=\"M18.56 5.44l.94 2.06.94-2.06 2.06-.94-2.06-.94-.94-2.06-.94 2.06-2.06.94zm-11 1L8.5 8.5l.94-2.06 2.06-.94-2.06-.94L8.5 2.5l-.94 2.06-2.06.94zm10 10l.94 2.06.94-2.06 2.06-.94-2.06-.94-.94-2.06-.94 2.06-2.06.94z\"/><path d=\"M17.41 7.96l-1.37-1.37c-.4-.4-.92-.59-1.43-.59-.52 0-1.04.2-1.43.59L10.3 9.45l-7.72 7.72c-.78.78-.78 2.05 0 2.83L4 21.41c.39.39.9.59 1.41.59.51 0 1.02-.2 1.41-.59l7.78-7.78 2.81-2.81c.8-.78.8-2.07 0-2.86zM5.41 20L4 18.59l7.72-7.72 1.47 1.35L5.41 20z\"/>\n",
              "  </svg>\n",
              "      </button>\n",
              "      \n",
              "  <style>\n",
              "    .colab-df-container {\n",
              "      display:flex;\n",
              "      flex-wrap:wrap;\n",
              "      gap: 12px;\n",
              "    }\n",
              "\n",
              "    .colab-df-convert {\n",
              "      background-color: #E8F0FE;\n",
              "      border: none;\n",
              "      border-radius: 50%;\n",
              "      cursor: pointer;\n",
              "      display: none;\n",
              "      fill: #1967D2;\n",
              "      height: 32px;\n",
              "      padding: 0 0 0 0;\n",
              "      width: 32px;\n",
              "    }\n",
              "\n",
              "    .colab-df-convert:hover {\n",
              "      background-color: #E2EBFA;\n",
              "      box-shadow: 0px 1px 2px rgba(60, 64, 67, 0.3), 0px 1px 3px 1px rgba(60, 64, 67, 0.15);\n",
              "      fill: #174EA6;\n",
              "    }\n",
              "\n",
              "    [theme=dark] .colab-df-convert {\n",
              "      background-color: #3B4455;\n",
              "      fill: #D2E3FC;\n",
              "    }\n",
              "\n",
              "    [theme=dark] .colab-df-convert:hover {\n",
              "      background-color: #434B5C;\n",
              "      box-shadow: 0px 1px 3px 1px rgba(0, 0, 0, 0.15);\n",
              "      filter: drop-shadow(0px 1px 2px rgba(0, 0, 0, 0.3));\n",
              "      fill: #FFFFFF;\n",
              "    }\n",
              "  </style>\n",
              "\n",
              "      <script>\n",
              "        const buttonEl =\n",
              "          document.querySelector('#df-e0103bb1-6f23-4de8-a82d-79832001728e button.colab-df-convert');\n",
              "        buttonEl.style.display =\n",
              "          google.colab.kernel.accessAllowed ? 'block' : 'none';\n",
              "\n",
              "        async function convertToInteractive(key) {\n",
              "          const element = document.querySelector('#df-e0103bb1-6f23-4de8-a82d-79832001728e');\n",
              "          const dataTable =\n",
              "            await google.colab.kernel.invokeFunction('convertToInteractive',\n",
              "                                                     [key], {});\n",
              "          if (!dataTable) return;\n",
              "\n",
              "          const docLinkHtml = 'Like what you see? Visit the ' +\n",
              "            '<a target=\"_blank\" href=https://colab.research.google.com/notebooks/data_table.ipynb>data table notebook</a>'\n",
              "            + ' to learn more about interactive tables.';\n",
              "          element.innerHTML = '';\n",
              "          dataTable['output_type'] = 'display_data';\n",
              "          await google.colab.output.renderOutput(dataTable, element);\n",
              "          const docLink = document.createElement('div');\n",
              "          docLink.innerHTML = docLinkHtml;\n",
              "          element.appendChild(docLink);\n",
              "        }\n",
              "      </script>\n",
              "    </div>\n",
              "  </div>\n",
              "  "
            ]
          },
          "metadata": {},
          "execution_count": 2
        }
      ]
    },
    {
      "cell_type": "markdown",
      "source": [
        "## Large mtx file in gz\n",
        "\n",
        "* Can we treat is like a csv and read it using read_csv?\n",
        "* WIP: also need to unzip it to use the blocksize"
      ],
      "metadata": {
        "id": "pY6mSN7jesvu"
      }
    },
    {
      "cell_type": "code",
      "source": [
        "path = '/content/drive/My Drive/Data files/GSE158055_covid19_counts.mtx.gz'\n",
        "x = dd.read_csv(path, blocksize=blocksize, sep=' ', skiprows=3, header=None, compression = 'gzip')  \n",
        "x.head(5)"
      ],
      "metadata": {
        "id": "qqUrEjwidh2C"
      },
      "execution_count": null,
      "outputs": []
    },
    {
      "cell_type": "markdown",
      "source": [
        "## Large mtx file in gz\n",
        "\n",
        "* WIP: Need to modify this to read by chank and use together with generator\n",
        "* Or we can use the very cusom Build COO Matrix implementation above."
      ],
      "metadata": {
        "id": "8EFTfsz4W4R_"
      }
    },
    {
      "cell_type": "code",
      "source": [
        "path = '/content/drive/My Drive/Data files/GSE158055_covid19_counts.mtx.gz'\n",
        "\n",
        "import dask.array as da\n",
        "import scipy.sparse as sp\n",
        "from dask import delayed\n",
        "\n",
        "# Define a delayed function to read the sparse matrix\n",
        "@delayed\n",
        "def read_sparse_matrix(filename):\n",
        "    with gzip.open(filename, 'r') as f:\n",
        "        # Read the header and extract the matrix dimensions\n",
        "        for i in range(3):\n",
        "            f.readline()\n",
        "\n",
        "        header = f.readline()\n",
        "        num_rows, num_cols, num_entries = map(int, header.split())\n",
        "\n",
        "        # Read the sparse matrix data and create a scipy.sparse.coo_matrix\n",
        "        rows = []\n",
        "        cols = []\n",
        "        data = []\n",
        "        for line in f:\n",
        "            row, col, val = map(float, line.split())\n",
        "            rows.append(int(row) - 1)\n",
        "            cols.append(int(col) - 1)\n",
        "            data.append(val)\n",
        "        coo_matrix = sp.coo_matrix((data, (rows, cols)), shape=(num_rows, num_cols))\n",
        "\n",
        "        # Convert the scipy.sparse.coo_matrix to a Dask array\n",
        "        dask_array = da.from_delayed(delayed(coo_matrix.toarray)(), shape=(num_rows, num_cols), dtype=float)\n",
        "        return dask_array\n",
        "\n",
        "# Call the delayed function to read the sparse matrix and create a Dask array\n",
        "data = read_sparse_matrix(path)\n",
        "\n",
        "# Preview the first few rows of the array\n",
        "print(data.head(5).compute())"
      ],
      "metadata": {
        "id": "KY0x5ugWVp4s"
      },
      "execution_count": null,
      "outputs": []
    }
  ]
}